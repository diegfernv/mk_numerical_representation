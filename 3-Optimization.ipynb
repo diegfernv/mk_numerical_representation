{
 "cells": [
  {
   "cell_type": "code",
   "execution_count": null,
   "id": "97f247fb",
   "metadata": {},
   "outputs": [],
   "source": [
    "import pandas as pd\n",
    "from sklearn.ensemble import RandomForestClassifier\n",
    "from sklearn.model_selection import cross_val_score"
   ]
  },
  {
   "cell_type": "code",
   "execution_count": null,
   "id": "ec39c865",
   "metadata": {},
   "outputs": [],
   "source": [
    "import optuna\n",
    "\n",
    "class Optuna:\n",
    "    def __init__(self, X, y, n_trials=100, model: str = 'RandomForest'):\n",
    "        self.X = X\n",
    "        self.y = y\n",
    "        self.n_trials = n_trials\n",
    "        self.study = optuna.create_study(direction='maximize')\n",
    "        self.model = model\n",
    "\n",
    "    def objective(self, trial):\n",
    "        params = {\n",
    "            'n_estimators': trial.suggest_int('n_estimators', 2, 4),\n",
    "            #'max_depth': trial.suggest_int('max_depth', 2, 32),\n",
    "            #'min_samples_split': trial.suggest_int('min_samples_split', 2, 32),\n",
    "            #'min_samples_leaf': trial.suggest_int('min_samples_leaf', 1, 32),\n",
    "            #'max_features': trial.suggest_categorical('max_features', ['auto', 'sqrt', 'log2']),\n",
    "            #'bootstrap': trial.suggest_categorical('bootstrap', [True, False])\n",
    "        }\n",
    "        if self.model == 'RandomForest':\n",
    "            self.clf = RandomForestClassifier(**params)\n",
    "        return cross_val_score(self.clf, self.X, self.y, cv=5).mean()\n",
    "\n",
    "    def optimize(self):\n",
    "        self.study.optimize(self.objective, n_trials=self.n_trials)\n",
    "        return self.study.best_params"
   ]
  },
  {
   "cell_type": "code",
   "execution_count": null,
   "id": "1a462a18",
   "metadata": {
    "lines_to_next_cell": 0
   },
   "outputs": [],
   "source": [
    "df = pd.read_csv('data/human_dataset_fft.csv')\n",
    "df.head()"
   ]
  },
  {
   "cell_type": "code",
   "execution_count": null,
   "id": "9f4c104b",
   "metadata": {
    "lines_to_next_cell": 0
   },
   "outputs": [],
   "source": [
    "X = df.drop('response', axis=1).values\n",
    "y = df['response'].values"
   ]
  },
  {
   "cell_type": "code",
   "execution_count": null,
   "id": "1b9fa734",
   "metadata": {},
   "outputs": [],
   "source": [
    "opt = Optuna(X, y, n_trials=10, model='RandomForest')\n",
    "opt.optimize()"
   ]
  }
 ],
 "metadata": {
  "kernelspec": {
   "display_name": "Python 3",
   "language": "python",
   "name": "python3"
  },
  "language_info": {
   "codemirror_mode": {
    "name": "ipython"
   },
   "file_extension": ".py",
   "mimetype": "text/x-python",
   "name": "python",
   "nbconvert_exporter": "python",
   "pygments_lexer": "ipython3"
  }
 },
 "nbformat": 4,
 "nbformat_minor": 5
}
