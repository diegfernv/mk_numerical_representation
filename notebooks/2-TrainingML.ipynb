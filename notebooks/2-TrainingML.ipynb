{
 "cells": [
  {
   "cell_type": "code",
   "execution_count": 43,
   "id": "03ea2575",
   "metadata": {
    "lines_to_next_cell": 0
   },
   "outputs": [],
   "source": [
    "import pandas as pd\n",
    "import numpy as np\n",
    "import matplotlib.pyplot as plt\n",
    "from sklearn.model_selection import train_test_split\n",
    "from sklearn.metrics import accuracy_score, recall_score, precision_score, f1_score, matthews_corrcoef, confusion_matrix, make_scorer\n",
    "from sklearn.model_selection import cross_val_predict, cross_validate\n",
    "from sklearn.neighbors import KNeighborsClassifier\n",
    "from sklearn.tree import DecisionTreeClassifier\n",
    "from sklearn.svm import SVC\n",
    "from sklearn.ensemble import RandomForestClassifier, AdaBoostClassifier\n",
    "from sklearn.metrics import roc_curve, auc\n",
    "from joblib import dump"
   ]
  },
  {
   "cell_type": "code",
   "execution_count": 52,
   "id": "0d18d038",
   "metadata": {},
   "outputs": [],
   "source": [
    "class Models():\n",
    "    algorithms = [\n",
    "        (\"knn\", KNeighborsClassifier()),\n",
    "        #(\"dt\", DecisionTreeClassifier()),\n",
    "        #(\"svm\", SVC()),\n",
    "        (\"rf\", RandomForestClassifier()),\n",
    "        #(\"ada\", AdaBoostClassifier()) \n",
    "    ]\n",
    "    \n",
    "    def train_all(self, data, response):\n",
    "        for name, algorithm in self.algorithms:\n",
    "            algorithm.fit(X=data, y=response)\n",
    "\n",
    "    def save(self, sufix):\n",
    "        for name, algorithm in self.algorithms:\n",
    "            dump(algorithm, f\"models/{name}_model_{sufix}.joblib\")\n",
    "\n",
    "    def predict(self, X_val):\n",
    "        predictions = []\n",
    "\n",
    "        for name, model in self.algorithms:\n",
    "            predictions.append((name, model.predict(X_val)))\n",
    "        \n",
    "        return predictions\n",
    "    \n",
    "    def predict_proba(self, X_val):\n",
    "        predictions = []\n",
    "\n",
    "        for name, model in self.algorithms:\n",
    "            predictions.append((name, model.predict_proba(X_val)[::,1]))\n",
    "        \n",
    "        return predictions\n",
    "    \n",
    "    def cross_validate_model(self, name, model, X, y, cv, scoring):\n",
    "        res = cross_validate(model, X, y, cv=cv, scoring=scoring)\n",
    "        return [name, res[\"test_accuracy\"].mean(), res[\"test_precision\"].mean(), res[\"test_recall\"].mean(), res[\"test_f1\"].mean(), res[\"test_mcc\"].mean()]\n",
    "    \n",
    "    def cross_validate(self, X, y, cv, scoring):\n",
    "        score_list = []\n",
    "        for name, model in self.algorithms:\n",
    "            score_list.append(self.cross_validate_model(name, model, X, y, cv, scoring))\n",
    "        \n",
    "        return pd.DataFrame(score_list, columns=[\"algorithm\", \"accuracy\", \"precision\", \"recall\", \"f1\", \"mcc\"])\n",
    "\n",
    "    def cv_predict(self, X, y, cv):\n",
    "        self.predictions = cross_val_predict(self.model_instance, X, y, cv=cv)\n",
    "        return self.get_metrics(y)\n",
    "\n",
    "    def get_metrics(self, X_val,y_true):\n",
    "        export_list = []\n",
    "        predictions = self.predict(X_val)\n",
    "        for name, y_pred in predictions:\n",
    "            acc_value = accuracy_score(y_pred=y_pred, y_true=y_true) \n",
    "            recall_value = recall_score(y_pred=y_pred, y_true=y_true)\n",
    "            precision_value = precision_score(y_pred=y_pred, y_true=y_true) \n",
    "            f1_value = f1_score(y_pred=y_pred, y_true=y_true)\n",
    "            mcc_value = matthews_corrcoef(y_pred=y_pred, y_true=y_true)\n",
    "            cm = confusion_matrix(y_pred=y_pred, y_true=y_true)\n",
    "            export_list.append((name, acc_value, recall_value, precision_value, f1_value, mcc_value, cm))\n",
    "\n",
    "        return pd.DataFrame(export_list, columns=[\"algorithm\", \"acc\", \"recall\", \"precision\", \"f1\", \"mcc\", \"cm\"])"
   ]
  },
  {
   "cell_type": "markdown",
   "id": "066aba48",
   "metadata": {},
   "source": [
    "# Data load"
   ]
  },
  {
   "cell_type": "code",
   "execution_count": 4,
   "id": "88619754",
   "metadata": {
    "lines_to_next_cell": 2
   },
   "outputs": [
    {
     "data": {
      "text/html": [
       "<div>\n",
       "<style scoped>\n",
       "    .dataframe tbody tr th:only-of-type {\n",
       "        vertical-align: middle;\n",
       "    }\n",
       "\n",
       "    .dataframe tbody tr th {\n",
       "        vertical-align: top;\n",
       "    }\n",
       "\n",
       "    .dataframe thead th {\n",
       "        text-align: right;\n",
       "    }\n",
       "</style>\n",
       "<table border=\"1\" class=\"dataframe\">\n",
       "  <thead>\n",
       "    <tr style=\"text-align: right;\">\n",
       "      <th></th>\n",
       "      <th>p_0</th>\n",
       "      <th>p_1</th>\n",
       "      <th>p_2</th>\n",
       "      <th>p_3</th>\n",
       "      <th>p_4</th>\n",
       "      <th>p_5</th>\n",
       "      <th>p_6</th>\n",
       "      <th>p_7</th>\n",
       "      <th>p_8</th>\n",
       "      <th>p_9</th>\n",
       "      <th>...</th>\n",
       "      <th>p_4087</th>\n",
       "      <th>p_4088</th>\n",
       "      <th>p_4089</th>\n",
       "      <th>p_4090</th>\n",
       "      <th>p_4091</th>\n",
       "      <th>p_4092</th>\n",
       "      <th>p_4093</th>\n",
       "      <th>p_4094</th>\n",
       "      <th>p_4095</th>\n",
       "      <th>response</th>\n",
       "    </tr>\n",
       "  </thead>\n",
       "  <tbody>\n",
       "    <tr>\n",
       "      <th>0</th>\n",
       "      <td>1736.78</td>\n",
       "      <td>1730.097781</td>\n",
       "      <td>1710.143817</td>\n",
       "      <td>1677.194657</td>\n",
       "      <td>1631.706140</td>\n",
       "      <td>1574.305873</td>\n",
       "      <td>1505.782897</td>\n",
       "      <td>1427.074715</td>\n",
       "      <td>1339.251925</td>\n",
       "      <td>1243.500729</td>\n",
       "      <td>...</td>\n",
       "      <td>7.564455</td>\n",
       "      <td>6.925004</td>\n",
       "      <td>6.218049</td>\n",
       "      <td>5.451810</td>\n",
       "      <td>4.635127</td>\n",
       "      <td>3.777726</td>\n",
       "      <td>2.891176</td>\n",
       "      <td>1.992699</td>\n",
       "      <td>1.127448</td>\n",
       "      <td>1</td>\n",
       "    </tr>\n",
       "    <tr>\n",
       "      <th>1</th>\n",
       "      <td>1455.06</td>\n",
       "      <td>1451.041913</td>\n",
       "      <td>1439.027637</td>\n",
       "      <td>1419.136656</td>\n",
       "      <td>1391.566536</td>\n",
       "      <td>1356.590586</td>\n",
       "      <td>1314.554635</td>\n",
       "      <td>1265.872941</td>\n",
       "      <td>1211.023318</td>\n",
       "      <td>1150.541520</td>\n",
       "      <td>...</td>\n",
       "      <td>5.104631</td>\n",
       "      <td>5.401888</td>\n",
       "      <td>5.662994</td>\n",
       "      <td>5.887883</td>\n",
       "      <td>6.076814</td>\n",
       "      <td>6.230261</td>\n",
       "      <td>6.348791</td>\n",
       "      <td>6.432970</td>\n",
       "      <td>6.483270</td>\n",
       "      <td>1</td>\n",
       "    </tr>\n",
       "    <tr>\n",
       "      <th>2</th>\n",
       "      <td>890.09</td>\n",
       "      <td>889.150867</td>\n",
       "      <td>886.337020</td>\n",
       "      <td>881.659100</td>\n",
       "      <td>875.134789</td>\n",
       "      <td>866.788729</td>\n",
       "      <td>856.652413</td>\n",
       "      <td>844.764042</td>\n",
       "      <td>831.168355</td>\n",
       "      <td>815.916427</td>\n",
       "      <td>...</td>\n",
       "      <td>6.708745</td>\n",
       "      <td>6.921748</td>\n",
       "      <td>7.113987</td>\n",
       "      <td>7.283848</td>\n",
       "      <td>7.429936</td>\n",
       "      <td>7.551071</td>\n",
       "      <td>7.646289</td>\n",
       "      <td>7.714838</td>\n",
       "      <td>7.756183</td>\n",
       "      <td>1</td>\n",
       "    </tr>\n",
       "    <tr>\n",
       "      <th>3</th>\n",
       "      <td>4379.90</td>\n",
       "      <td>4272.687253</td>\n",
       "      <td>3960.494775</td>\n",
       "      <td>3470.669678</td>\n",
       "      <td>2845.603020</td>\n",
       "      <td>2138.331341</td>\n",
       "      <td>1407.099109</td>\n",
       "      <td>709.518428</td>\n",
       "      <td>98.053637</td>\n",
       "      <td>391.939628</td>\n",
       "      <td>...</td>\n",
       "      <td>16.456478</td>\n",
       "      <td>14.916973</td>\n",
       "      <td>12.478986</td>\n",
       "      <td>9.576113</td>\n",
       "      <td>7.123597</td>\n",
       "      <td>6.642044</td>\n",
       "      <td>8.329246</td>\n",
       "      <td>10.555320</td>\n",
       "      <td>12.204887</td>\n",
       "      <td>1</td>\n",
       "    </tr>\n",
       "    <tr>\n",
       "      <th>4</th>\n",
       "      <td>1135.64</td>\n",
       "      <td>1133.749021</td>\n",
       "      <td>1128.087383</td>\n",
       "      <td>1118.688910</td>\n",
       "      <td>1105.609707</td>\n",
       "      <td>1088.927759</td>\n",
       "      <td>1068.742383</td>\n",
       "      <td>1045.173519</td>\n",
       "      <td>1018.360882</td>\n",
       "      <td>988.462972</td>\n",
       "      <td>...</td>\n",
       "      <td>5.033257</td>\n",
       "      <td>4.790180</td>\n",
       "      <td>4.525216</td>\n",
       "      <td>4.247869</td>\n",
       "      <td>3.969779</td>\n",
       "      <td>3.705017</td>\n",
       "      <td>3.470107</td>\n",
       "      <td>3.283237</td>\n",
       "      <td>3.162075</td>\n",
       "      <td>1</td>\n",
       "    </tr>\n",
       "  </tbody>\n",
       "</table>\n",
       "<p>5 rows × 4097 columns</p>\n",
       "</div>"
      ],
      "text/plain": [
       "       p_0          p_1          p_2          p_3          p_4          p_5  \\\n",
       "0  1736.78  1730.097781  1710.143817  1677.194657  1631.706140  1574.305873   \n",
       "1  1455.06  1451.041913  1439.027637  1419.136656  1391.566536  1356.590586   \n",
       "2   890.09   889.150867   886.337020   881.659100   875.134789   866.788729   \n",
       "3  4379.90  4272.687253  3960.494775  3470.669678  2845.603020  2138.331341   \n",
       "4  1135.64  1133.749021  1128.087383  1118.688910  1105.609707  1088.927759   \n",
       "\n",
       "           p_6          p_7          p_8          p_9  ...     p_4087  \\\n",
       "0  1505.782897  1427.074715  1339.251925  1243.500729  ...   7.564455   \n",
       "1  1314.554635  1265.872941  1211.023318  1150.541520  ...   5.104631   \n",
       "2   856.652413   844.764042   831.168355   815.916427  ...   6.708745   \n",
       "3  1407.099109   709.518428    98.053637   391.939628  ...  16.456478   \n",
       "4  1068.742383  1045.173519  1018.360882   988.462972  ...   5.033257   \n",
       "\n",
       "      p_4088     p_4089    p_4090    p_4091    p_4092    p_4093     p_4094  \\\n",
       "0   6.925004   6.218049  5.451810  4.635127  3.777726  2.891176   1.992699   \n",
       "1   5.401888   5.662994  5.887883  6.076814  6.230261  6.348791   6.432970   \n",
       "2   6.921748   7.113987  7.283848  7.429936  7.551071  7.646289   7.714838   \n",
       "3  14.916973  12.478986  9.576113  7.123597  6.642044  8.329246  10.555320   \n",
       "4   4.790180   4.525216  4.247869  3.969779  3.705017  3.470107   3.283237   \n",
       "\n",
       "      p_4095  response  \n",
       "0   1.127448         1  \n",
       "1   6.483270         1  \n",
       "2   7.756183         1  \n",
       "3  12.204887         1  \n",
       "4   3.162075         1  \n",
       "\n",
       "[5 rows x 4097 columns]"
      ]
     },
     "execution_count": 4,
     "metadata": {},
     "output_type": "execute_result"
    }
   ],
   "source": [
    "df = pd.read_csv('../data/encoded/fft_ANDN920101.csv')\n",
    "df.head()"
   ]
  },
  {
   "cell_type": "markdown",
   "id": "72ae2763",
   "metadata": {
    "lines_to_next_cell": 0
   },
   "source": [
    "# Data split"
   ]
  },
  {
   "cell_type": "code",
   "execution_count": 14,
   "id": "c95ab125",
   "metadata": {
    "lines_to_next_cell": 0
   },
   "outputs": [],
   "source": [
    "X = df.drop('response', axis=1)\n",
    "y = df['response']"
   ]
  },
  {
   "cell_type": "code",
   "execution_count": 15,
   "id": "e629e98f",
   "metadata": {},
   "outputs": [],
   "source": [
    "X_train_val, X_test, y_train_val, y_test = train_test_split(X, y, test_size=0.1, random_state=42)\n",
    "X_train, X_val, y_train, y_val = train_test_split(X_train_val, y_train_val, test_size=0.1, random_state=42)"
   ]
  },
  {
   "cell_type": "markdown",
   "id": "5c5fccec",
   "metadata": {
    "lines_to_next_cell": 0
   },
   "source": [
    "# Model training"
   ]
  },
  {
   "cell_type": "code",
   "execution_count": 53,
   "id": "008f5d3d",
   "metadata": {},
   "outputs": [],
   "source": [
    "models_instance = Models()\n",
    "models_instance.train_all(X_train, y_train)"
   ]
  },
  {
   "cell_type": "markdown",
   "id": "c9c1237b",
   "metadata": {
    "lines_to_next_cell": 0
   },
   "source": [
    "# Model evaluation"
   ]
  },
  {
   "cell_type": "code",
   "execution_count": 54,
   "id": "092c133e",
   "metadata": {},
   "outputs": [
    {
     "data": {
      "text/html": [
       "<div>\n",
       "<style scoped>\n",
       "    .dataframe tbody tr th:only-of-type {\n",
       "        vertical-align: middle;\n",
       "    }\n",
       "\n",
       "    .dataframe tbody tr th {\n",
       "        vertical-align: top;\n",
       "    }\n",
       "\n",
       "    .dataframe thead th {\n",
       "        text-align: right;\n",
       "    }\n",
       "</style>\n",
       "<table border=\"1\" class=\"dataframe\">\n",
       "  <thead>\n",
       "    <tr style=\"text-align: right;\">\n",
       "      <th></th>\n",
       "      <th>algorithm</th>\n",
       "      <th>acc_val</th>\n",
       "      <th>recall_val</th>\n",
       "      <th>precision_val</th>\n",
       "      <th>f1_val</th>\n",
       "      <th>mcc_val</th>\n",
       "      <th>cm_val</th>\n",
       "      <th>acc_test</th>\n",
       "      <th>recall_test</th>\n",
       "      <th>precision_test</th>\n",
       "      <th>f1_test</th>\n",
       "      <th>mcc_test</th>\n",
       "      <th>cm_test</th>\n",
       "    </tr>\n",
       "  </thead>\n",
       "  <tbody>\n",
       "    <tr>\n",
       "      <th>0</th>\n",
       "      <td>knn</td>\n",
       "      <td>0.796139</td>\n",
       "      <td>0.516517</td>\n",
       "      <td>0.625455</td>\n",
       "      <td>0.565789</td>\n",
       "      <td>0.437564</td>\n",
       "      <td>[[859, 103], [161, 172]]</td>\n",
       "      <td>0.790132</td>\n",
       "      <td>0.550649</td>\n",
       "      <td>0.621701</td>\n",
       "      <td>0.584022</td>\n",
       "      <td>0.445839</td>\n",
       "      <td>[[925, 129], [173, 212]]</td>\n",
       "    </tr>\n",
       "    <tr>\n",
       "      <th>1</th>\n",
       "      <td>rf</td>\n",
       "      <td>0.845560</td>\n",
       "      <td>0.591592</td>\n",
       "      <td>0.754789</td>\n",
       "      <td>0.663300</td>\n",
       "      <td>0.572059</td>\n",
       "      <td>[[898, 64], [136, 197]]</td>\n",
       "      <td>0.836692</td>\n",
       "      <td>0.576623</td>\n",
       "      <td>0.755102</td>\n",
       "      <td>0.653903</td>\n",
       "      <td>0.558091</td>\n",
       "      <td>[[982, 72], [163, 222]]</td>\n",
       "    </tr>\n",
       "  </tbody>\n",
       "</table>\n",
       "</div>"
      ],
      "text/plain": [
       "  algorithm   acc_val  recall_val  precision_val    f1_val   mcc_val  \\\n",
       "0       knn  0.796139    0.516517       0.625455  0.565789  0.437564   \n",
       "1        rf  0.845560    0.591592       0.754789  0.663300  0.572059   \n",
       "\n",
       "                     cm_val  acc_test  recall_test  precision_test   f1_test  \\\n",
       "0  [[859, 103], [161, 172]]  0.790132     0.550649        0.621701  0.584022   \n",
       "1   [[898, 64], [136, 197]]  0.836692     0.576623        0.755102  0.653903   \n",
       "\n",
       "   mcc_test                   cm_test  \n",
       "0  0.445839  [[925, 129], [173, 212]]  \n",
       "1  0.558091   [[982, 72], [163, 222]]  "
      ]
     },
     "execution_count": 54,
     "metadata": {},
     "output_type": "execute_result"
    }
   ],
   "source": [
    "metrics_val = models_instance.get_metrics(X_val, y_val)\n",
    "metrics_test = models_instance.get_metrics(X_test, y_test)\n",
    "metrics = pd.merge(metrics_val, metrics_test, on=\"algorithm\", suffixes=(\"_val\", \"_test\"))\n",
    "metrics"
   ]
  },
  {
   "cell_type": "markdown",
   "id": "32d4faca",
   "metadata": {},
   "source": [
    "## ROC y AUC"
   ]
  },
  {
   "cell_type": "code",
   "execution_count": 55,
   "id": "b43aeb42",
   "metadata": {},
   "outputs": [
    {
     "data": {
      "text/plain": [
       "[('knn', array([0. , 0.2, 0. , ..., 0. , 1. , 0. ])),\n",
       " ('rf',\n",
       "  array([0.012869  , 0.52116711, 0.        , ..., 0.16302531, 0.87737177,\n",
       "         0.02652884]))]"
      ]
     },
     "execution_count": 55,
     "metadata": {},
     "output_type": "execute_result"
    }
   ],
   "source": [
    "predictions = models_instance.predict_proba(X_test)\n",
    "predictions"
   ]
  },
  {
   "cell_type": "code",
   "execution_count": 56,
   "id": "1041be0b",
   "metadata": {},
   "outputs": [
    {
     "data": {
      "image/png": "[encoded data removed]",
      "text/plain": [
       "<Figure size 640x480 with 1 Axes>"
      ]
     },
     "metadata": {},
     "output_type": "display_data"
    },
    {
     "data": {
      "image/png": "[encoded data removed]",
      "text/plain": [
       "<Figure size 640x480 with 1 Axes>"
      ]
     },
     "metadata": {},
     "output_type": "display_data"
    }
   ],
   "source": [
    "for name, y_pred in predictions:\n",
    "    \n",
    "    fpr, tpr, thresholds = roc_curve(y, y_pred)\n",
    "    roc_auc = auc(fpr, tpr)\n",
    "\n",
    "    plt.figure()\n",
    "    plt.plot(fpr, tpr, color='darkorange', lw=2, label=f'ROC curve (AUC = {roc_auc:.2f})')\n",
    "    plt.plot([0, 1], [0, 1], color='navy', lw=2, linestyle='--')  # Diagonal line\n",
    "    plt.xlim([0.0, 1.0])\n",
    "    plt.ylim([0.0, 1.05])\n",
    "    plt.xlabel('False Positive Rate')\n",
    "    plt.ylabel('True Positive Rate')\n",
    "    plt.title('Receiver Operating Characteristic')\n",
    "    plt.legend(loc='lower right')\n",
    "    plt.show()\n"
   ]
  },
  {
   "cell_type": "markdown",
   "id": "b5f2b328",
   "metadata": {},
   "source": [
    "## Plot"
   ]
  },
  {
   "cell_type": "code",
   "execution_count": 10,
   "id": "765e501b",
   "metadata": {},
   "outputs": [],
   "source": [
    "import matplotlib as plt"
   ]
  },
  {
   "cell_type": "code",
   "execution_count": null,
   "id": "ccf3eb4d",
   "metadata": {},
   "outputs": [],
   "source": [
    "plt.figure()\n",
    "plt.plot(fpr, tpr, color='darkorange', lw=2, label=f'ROC curve (AUC = {roc_auc:.2f})')\n",
    "plt.plot([0, 1], [0, 1], color='navy', lw=2, linestyle='--')  # Diagonal line\n",
    "plt.xlim([0.0, 1.0])\n",
    "plt.ylim([0.0, 1.05])\n",
    "plt.xlabel('False Positive Rate')\n",
    "plt.ylabel('True Positive Rate')\n",
    "plt.title('Receiver Operating Characteristic')\n",
    "plt.legend(loc='lower right')\n",
    "plt.show()"
   ]
  },
  {
   "cell_type": "markdown",
   "id": "49bf64ba",
   "metadata": {
    "lines_to_next_cell": 0
   },
   "source": [
    "# Cross Validation"
   ]
  },
  {
   "cell_type": "code",
   "execution_count": null,
   "id": "214ed1c7",
   "metadata": {},
   "outputs": [],
   "source": [
    "scoring = {\n",
    "    \"accuracy\": make_scorer(accuracy_score),\n",
    "    \"precision\": make_scorer(precision_score),\n",
    "    \"recall\": make_scorer(recall_score),\n",
    "    \"f1\": make_scorer(f1_score),\n",
    "    \"mcc\": make_scorer(matthews_corrcoef)\n",
    "}\n",
    "cv_metrics = models_instance.cross_validate(X_train, y_train, cv=5, scoring=scoring)\n",
    "cv_metrics"
   ]
  }
 ],
 "metadata": {
  "kernelspec": {
   "display_name": "pandas-env",
   "language": "python",
   "name": "python3"
  },
  "language_info": {
   "codemirror_mode": {
    "name": "ipython",
    "version": 3
   },
   "file_extension": ".py",
   "mimetype": "text/x-python",
   "name": "python",
   "nbconvert_exporter": "python",
   "pygments_lexer": "ipython3",
   "version": "3.12.4"
  }
 },
 "nbformat": 4,
 "nbformat_minor": 5
}
