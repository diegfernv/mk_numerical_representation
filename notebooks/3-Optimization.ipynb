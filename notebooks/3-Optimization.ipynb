{
 "cells": [
  {
   "cell_type": "code",
   "execution_count": 2,
   "id": "97f247fb",
   "metadata": {},
   "outputs": [],
   "source": [
    "import pandas as pd\n",
    "from sklearn.ensemble import RandomForestClassifier\n",
    "from sklearn.model_selection import cross_val_score"
   ]
  },
  {
   "cell_type": "code",
   "execution_count": 11,
   "id": "ec39c865",
   "metadata": {},
   "outputs": [],
   "source": [
    "import optuna\n",
    "\n",
    "class Optuna:\n",
    "    def __init__(self, X, y, n_trials=100, model: str = 'RandomForest'):\n",
    "        self.X = X\n",
    "        self.y = y\n",
    "        self.n_trials = n_trials\n",
    "        self.study = optuna.create_study(direction='maximize')\n",
    "        self.model = model\n",
    "\n",
    "    def objective(self, trial):\n",
    "        params = {\n",
    "            'n_estimators': trial.suggest_int('n_estimators', 2, 50),\n",
    "            'criterion': trial.suggest_categorical('criterion', ['gini', 'entropy']),\n",
    "            'max_depth': trial.suggest_int('max_depth', 2, 32),\n",
    "            'min_samples_leaf': trial.suggest_int('min_samples_leaf', 1, 10),\n",
    "            'max_features': trial.suggest_categorical('max_features', ['sqrt', 'log2']),\n",
    "            'n_jobs': -1\n",
    "        }\n",
    "        if self.model == 'RandomForest':\n",
    "            self.clf = RandomForestClassifier(**params)\n",
    "        return cross_val_score(self.clf, self.X, self.y, cv=5).mean()\n",
    "\n",
    "    def optimize(self):\n",
    "        self.study.optimize(self.objective, n_trials=self.n_trials)\n",
    "        return self.study.best_params"
   ]
  },
  {
   "cell_type": "code",
   "execution_count": null,
   "id": "1a462a18",
   "metadata": {
    "lines_to_next_cell": 0
   },
   "outputs": [
    {
     "data": {
      "text/plain": [
       "Index(['p_1', 'p_2', 'p_3', 'p_4', 'p_5', 'p_6', 'p_7', 'p_8', 'p_9', 'p_10',\n",
       "       ...\n",
       "       'p_248', 'p_249', 'p_250', 'p_251', 'p_252', 'p_253', 'p_254', 'p_255',\n",
       "       'p_256', 'target'],\n",
       "      dtype='object', length=257)"
      ]
     },
     "execution_count": 8,
     "metadata": {},
     "output_type": "execute_result"
    }
   ],
   "source": [
    "df = pd.read_csv('../data/encoded/Mistral-Prot-v1-15M.csv')\n",
    "df.columns"
   ]
  },
  {
   "cell_type": "code",
   "execution_count": 10,
   "id": "9f4c104b",
   "metadata": {
    "lines_to_next_cell": 0
   },
   "outputs": [],
   "source": [
    "X = df.drop('target', axis=1).values\n",
    "y = df['target'].values"
   ]
  },
  {
   "cell_type": "code",
   "execution_count": null,
   "id": "1b9fa734",
   "metadata": {},
   "outputs": [
    {
     "name": "stderr",
     "output_type": "stream",
     "text": [
      "[I 2024-11-29 17:10:43,672] A new study created in memory with name: no-name-48eae289-ee9c-476f-beb0-f5daa519885a\n",
      "[I 2024-11-29 17:10:44,519] Trial 0 finished with value: 0.4030010847818226 and parameters: {'n_estimators': 25, 'criterion': 'gini', 'max_depth': 27, 'min_samples_leaf': 5, 'max_features': 'log2'}. Best is trial 0 with value: 0.4030010847818226.\n",
      "[I 2024-11-29 17:10:45,536] Trial 1 finished with value: 0.6230514567259975 and parameters: {'n_estimators': 50, 'criterion': 'gini', 'max_depth': 4, 'min_samples_leaf': 5, 'max_features': 'sqrt'}. Best is trial 1 with value: 0.6230514567259975.\n",
      "[I 2024-11-29 17:10:46,525] Trial 2 finished with value: 0.40466987584308517 and parameters: {'n_estimators': 25, 'criterion': 'gini', 'max_depth': 27, 'min_samples_leaf': 4, 'max_features': 'sqrt'}. Best is trial 1 with value: 0.6230514567259975.\n",
      "[I 2024-11-29 17:10:47,233] Trial 3 finished with value: 0.5208808544341634 and parameters: {'n_estimators': 12, 'criterion': 'gini', 'max_depth': 5, 'min_samples_leaf': 1, 'max_features': 'sqrt'}. Best is trial 1 with value: 0.6230514567259975.\n",
      "[I 2024-11-29 17:10:48,019] Trial 4 finished with value: 0.3949364046354556 and parameters: {'n_estimators': 20, 'criterion': 'entropy', 'max_depth': 24, 'min_samples_leaf': 7, 'max_features': 'log2'}. Best is trial 1 with value: 0.6230514567259975.\n",
      "[I 2024-11-29 17:10:49,088] Trial 5 finished with value: 0.469931350291292 and parameters: {'n_estimators': 44, 'criterion': 'entropy', 'max_depth': 6, 'min_samples_leaf': 1, 'max_features': 'sqrt'}. Best is trial 1 with value: 0.6230514567259975.\n",
      "[I 2024-11-29 17:10:49,633] Trial 6 finished with value: 0.4539467483477669 and parameters: {'n_estimators': 4, 'criterion': 'gini', 'max_depth': 16, 'min_samples_leaf': 2, 'max_features': 'log2'}. Best is trial 1 with value: 0.6230514567259975.\n",
      "[I 2024-11-29 17:10:50,374] Trial 7 finished with value: 0.4036956253413343 and parameters: {'n_estimators': 11, 'criterion': 'gini', 'max_depth': 21, 'min_samples_leaf': 4, 'max_features': 'sqrt'}. Best is trial 1 with value: 0.6230514567259975.\n",
      "[I 2024-11-29 17:10:51,421] Trial 8 finished with value: 0.3867327873916999 and parameters: {'n_estimators': 32, 'criterion': 'gini', 'max_depth': 16, 'min_samples_leaf': 6, 'max_features': 'sqrt'}. Best is trial 1 with value: 0.6230514567259975.\n",
      "[I 2024-11-29 17:10:52,670] Trial 9 finished with value: 0.40654523680296845 and parameters: {'n_estimators': 43, 'criterion': 'gini', 'max_depth': 22, 'min_samples_leaf': 4, 'max_features': 'sqrt'}. Best is trial 1 with value: 0.6230514567259975.\n",
      "[I 2024-11-29 17:10:53,696] Trial 10 finished with value: 0.3812433469251109 and parameters: {'n_estimators': 49, 'criterion': 'entropy', 'max_depth': 10, 'min_samples_leaf': 9, 'max_features': 'log2'}. Best is trial 1 with value: 0.6230514567259975.\n",
      "[I 2024-11-29 17:10:54,336] Trial 11 finished with value: 0.7031310846876198 and parameters: {'n_estimators': 15, 'criterion': 'gini', 'max_depth': 2, 'min_samples_leaf': 10, 'max_features': 'sqrt'}. Best is trial 11 with value: 0.7031310846876198.\n",
      "[I 2024-11-29 17:10:55,297] Trial 12 finished with value: 0.7225958290368387 and parameters: {'n_estimators': 35, 'criterion': 'gini', 'max_depth': 2, 'min_samples_leaf': 10, 'max_features': 'sqrt'}. Best is trial 12 with value: 0.7225958290368387.\n",
      "[I 2024-11-29 17:10:56,371] Trial 13 finished with value: 0.4044600209226902 and parameters: {'n_estimators': 35, 'criterion': 'gini', 'max_depth': 10, 'min_samples_leaf': 10, 'max_features': 'sqrt'}. Best is trial 12 with value: 0.7225958290368387.\n",
      "[I 2024-11-29 17:10:57,178] Trial 14 finished with value: 0.42544321827786113 and parameters: {'n_estimators': 18, 'criterion': 'gini', 'max_depth': 10, 'min_samples_leaf': 8, 'max_features': 'sqrt'}. Best is trial 12 with value: 0.7225958290368387.\n",
      "[I 2024-11-29 17:10:58,083] Trial 15 finished with value: 0.7080668057486914 and parameters: {'n_estimators': 34, 'criterion': 'entropy', 'max_depth': 2, 'min_samples_leaf': 10, 'max_features': 'sqrt'}. Best is trial 12 with value: 0.7225958290368387.\n",
      "[I 2024-11-29 17:10:59,113] Trial 16 finished with value: 0.4115526244787745 and parameters: {'n_estimators': 34, 'criterion': 'entropy', 'max_depth': 8, 'min_samples_leaf': 8, 'max_features': 'sqrt'}. Best is trial 12 with value: 0.7225958290368387.\n",
      "[I 2024-11-29 17:11:00,220] Trial 17 finished with value: 0.40571219392836183 and parameters: {'n_estimators': 39, 'criterion': 'entropy', 'max_depth': 13, 'min_samples_leaf': 9, 'max_features': 'sqrt'}. Best is trial 12 with value: 0.7225958290368387.\n",
      "[I 2024-11-29 17:11:01,056] Trial 18 finished with value: 0.40327651936484105 and parameters: {'n_estimators': 29, 'criterion': 'entropy', 'max_depth': 31, 'min_samples_leaf': 10, 'max_features': 'log2'}. Best is trial 12 with value: 0.7225958290368387.\n",
      "[I 2024-11-29 17:11:02,033] Trial 19 finished with value: 0.7291304136736132 and parameters: {'n_estimators': 40, 'criterion': 'entropy', 'max_depth': 2, 'min_samples_leaf': 8, 'max_features': 'sqrt'}. Best is trial 19 with value: 0.7291304136736132.\n",
      "[I 2024-11-29 17:11:03,222] Trial 20 finished with value: 0.39723021939839176 and parameters: {'n_estimators': 40, 'criterion': 'entropy', 'max_depth': 13, 'min_samples_leaf': 7, 'max_features': 'sqrt'}. Best is trial 19 with value: 0.7291304136736132.\n",
      "[I 2024-11-29 17:11:04,172] Trial 21 finished with value: 0.7274620573946444 and parameters: {'n_estimators': 37, 'criterion': 'entropy', 'max_depth': 2, 'min_samples_leaf': 9, 'max_features': 'sqrt'}. Best is trial 19 with value: 0.7291304136736132.\n",
      "[I 2024-11-29 17:11:05,162] Trial 22 finished with value: 0.7291304136736132 and parameters: {'n_estimators': 40, 'criterion': 'entropy', 'max_depth': 2, 'min_samples_leaf': 8, 'max_features': 'sqrt'}. Best is trial 19 with value: 0.7291304136736132.\n",
      "[I 2024-11-29 17:11:06,366] Trial 23 finished with value: 0.4174603013572695 and parameters: {'n_estimators': 44, 'criterion': 'entropy', 'max_depth': 7, 'min_samples_leaf': 7, 'max_features': 'sqrt'}. Best is trial 19 with value: 0.7291304136736132.\n",
      "[I 2024-11-29 17:11:07,326] Trial 24 finished with value: 0.626528000100483 and parameters: {'n_estimators': 39, 'criterion': 'entropy', 'max_depth': 4, 'min_samples_leaf': 8, 'max_features': 'sqrt'}. Best is trial 19 with value: 0.7291304136736132.\n",
      "[I 2024-11-29 17:11:08,448] Trial 25 finished with value: 0.3931966715966148 and parameters: {'n_estimators': 47, 'criterion': 'entropy', 'max_depth': 8, 'min_samples_leaf': 9, 'max_features': 'sqrt'}. Best is trial 19 with value: 0.7291304136736132.\n",
      "[I 2024-11-29 17:11:09,288] Trial 26 finished with value: 0.5960801719225808 and parameters: {'n_estimators': 30, 'criterion': 'entropy', 'max_depth': 4, 'min_samples_leaf': 6, 'max_features': 'log2'}. Best is trial 19 with value: 0.7291304136736132.\n",
      "[I 2024-11-29 17:11:10,221] Trial 27 finished with value: 0.7275315742524825 and parameters: {'n_estimators': 38, 'criterion': 'entropy', 'max_depth': 2, 'min_samples_leaf': 8, 'max_features': 'sqrt'}. Best is trial 19 with value: 0.7291304136736132.\n",
      "[I 2024-11-29 17:11:11,429] Trial 28 finished with value: 0.3897899349348298 and parameters: {'n_estimators': 42, 'criterion': 'entropy', 'max_depth': 13, 'min_samples_leaf': 8, 'max_features': 'sqrt'}. Best is trial 19 with value: 0.7291304136736132.\n",
      "[I 2024-11-29 17:11:12,516] Trial 29 finished with value: 0.3875670621494719 and parameters: {'n_estimators': 45, 'criterion': 'entropy', 'max_depth': 19, 'min_samples_leaf': 6, 'max_features': 'log2'}. Best is trial 19 with value: 0.7291304136736132.\n",
      "[I 2024-11-29 17:11:13,384] Trial 30 finished with value: 0.43914216970374176 and parameters: {'n_estimators': 28, 'criterion': 'entropy', 'max_depth': 6, 'min_samples_leaf': 7, 'max_features': 'sqrt'}. Best is trial 19 with value: 0.7291304136736132.\n",
      "[I 2024-11-29 17:11:14,294] Trial 31 finished with value: 0.7240557313605811 and parameters: {'n_estimators': 38, 'criterion': 'entropy', 'max_depth': 2, 'min_samples_leaf': 9, 'max_features': 'sqrt'}. Best is trial 19 with value: 0.7291304136736132.\n",
      "[I 2024-11-29 17:11:15,233] Trial 32 finished with value: 0.6092183749625302 and parameters: {'n_estimators': 37, 'criterion': 'entropy', 'max_depth': 4, 'min_samples_leaf': 8, 'max_features': 'sqrt'}. Best is trial 19 with value: 0.7291304136736132.\n",
      "[I 2024-11-29 17:11:16,017] Trial 33 finished with value: 0.5725250923731214 and parameters: {'n_estimators': 22, 'criterion': 'entropy', 'max_depth': 4, 'min_samples_leaf': 9, 'max_features': 'sqrt'}. Best is trial 19 with value: 0.7291304136736132.\n",
      "[I 2024-11-29 17:11:17,156] Trial 34 finished with value: 0.42156128872370385 and parameters: {'n_estimators': 47, 'criterion': 'entropy', 'max_depth': 8, 'min_samples_leaf': 5, 'max_features': 'sqrt'}. Best is trial 19 with value: 0.7291304136736132.\n",
      "[I 2024-11-29 17:11:18,092] Trial 35 finished with value: 0.5171246977357262 and parameters: {'n_estimators': 41, 'criterion': 'entropy', 'max_depth': 5, 'min_samples_leaf': 7, 'max_features': 'sqrt'}. Best is trial 19 with value: 0.7291304136736132.\n",
      "[I 2024-11-29 17:11:18,887] Trial 36 finished with value: 0.7209274244487263 and parameters: {'n_estimators': 26, 'criterion': 'entropy', 'max_depth': 2, 'min_samples_leaf': 8, 'max_features': 'sqrt'}. Best is trial 19 with value: 0.7291304136736132.\n",
      "[I 2024-11-29 17:11:19,806] Trial 37 finished with value: 0.44060021212545014 and parameters: {'n_estimators': 32, 'criterion': 'entropy', 'max_depth': 6, 'min_samples_leaf': 9, 'max_features': 'sqrt'}. Best is trial 19 with value: 0.7291304136736132.\n",
      "[I 2024-11-29 17:11:20,793] Trial 38 finished with value: 0.4141920911651513 and parameters: {'n_estimators': 36, 'criterion': 'entropy', 'max_depth': 26, 'min_samples_leaf': 3, 'max_features': 'log2'}. Best is trial 19 with value: 0.7291304136736132.\n",
      "[I 2024-11-29 17:11:22,166] Trial 39 finished with value: 0.3908347650955808 and parameters: {'n_estimators': 50, 'criterion': 'entropy', 'max_depth': 11, 'min_samples_leaf': 7, 'max_features': 'sqrt'}. Best is trial 19 with value: 0.7291304136736132.\n",
      "[I 2024-11-29 17:11:23,087] Trial 40 finished with value: 0.4784122861746719 and parameters: {'n_estimators': 32, 'criterion': 'entropy', 'max_depth': 5, 'min_samples_leaf': 6, 'max_features': 'sqrt'}. Best is trial 19 with value: 0.7291304136736132.\n",
      "[I 2024-11-29 17:11:23,919] Trial 41 finished with value: 0.6787998704348764 and parameters: {'n_estimators': 38, 'criterion': 'entropy', 'max_depth': 3, 'min_samples_leaf': 9, 'max_features': 'sqrt'}. Best is trial 19 with value: 0.7291304136736132.\n",
      "[I 2024-11-29 17:11:24,933] Trial 42 finished with value: 0.7291999305314512 and parameters: {'n_estimators': 45, 'criterion': 'entropy', 'max_depth': 2, 'min_samples_leaf': 9, 'max_features': 'sqrt'}. Best is trial 42 with value: 0.7291999305314512.\n",
      "[I 2024-11-29 17:11:25,933] Trial 43 finished with value: 0.6494004472943619 and parameters: {'n_estimators': 46, 'criterion': 'entropy', 'max_depth': 3, 'min_samples_leaf': 8, 'max_features': 'sqrt'}. Best is trial 42 with value: 0.7291999305314512.\n",
      "[I 2024-11-29 17:11:26,959] Trial 44 finished with value: 0.45268629032394425 and parameters: {'n_estimators': 43, 'criterion': 'entropy', 'max_depth': 6, 'min_samples_leaf': 9, 'max_features': 'sqrt'}. Best is trial 42 with value: 0.7291999305314512.\n",
      "[I 2024-11-29 17:11:27,917] Trial 45 finished with value: 0.6562131959807759 and parameters: {'n_estimators': 41, 'criterion': 'entropy', 'max_depth': 3, 'min_samples_leaf': 8, 'max_features': 'sqrt'}. Best is trial 42 with value: 0.7291999305314512.\n",
      "[I 2024-11-29 17:11:28,670] Trial 46 finished with value: 0.4480295062588119 and parameters: {'n_estimators': 23, 'criterion': 'entropy', 'max_depth': 7, 'min_samples_leaf': 10, 'max_features': 'log2'}. Best is trial 42 with value: 0.7291999305314512.\n",
      "[I 2024-11-29 17:11:29,683] Trial 47 finished with value: 0.5408262264544252 and parameters: {'n_estimators': 42, 'criterion': 'entropy', 'max_depth': 5, 'min_samples_leaf': 7, 'max_features': 'sqrt'}. Best is trial 42 with value: 0.7291999305314512.\n",
      "[I 2024-11-29 17:11:30,805] Trial 48 finished with value: 0.7291304136736132 and parameters: {'n_estimators': 49, 'criterion': 'gini', 'max_depth': 2, 'min_samples_leaf': 9, 'max_features': 'sqrt'}. Best is trial 42 with value: 0.7291999305314512.\n",
      "[I 2024-11-29 17:11:31,840] Trial 49 finished with value: 0.6484232982439868 and parameters: {'n_estimators': 48, 'criterion': 'gini', 'max_depth': 3, 'min_samples_leaf': 10, 'max_features': 'sqrt'}. Best is trial 42 with value: 0.7291999305314512.\n",
      "[I 2024-11-29 17:11:33,112] Trial 50 finished with value: 0.3847176197698407 and parameters: {'n_estimators': 50, 'criterion': 'gini', 'max_depth': 32, 'min_samples_leaf': 8, 'max_features': 'sqrt'}. Best is trial 42 with value: 0.7291999305314512.\n",
      "[I 2024-11-29 17:11:34,136] Trial 51 finished with value: 0.7216225930271065 and parameters: {'n_estimators': 44, 'criterion': 'gini', 'max_depth': 2, 'min_samples_leaf': 9, 'max_features': 'sqrt'}. Best is trial 42 with value: 0.7291999305314512.\n",
      "[I 2024-11-29 17:11:34,690] Trial 52 finished with value: 0.5928892080512985 and parameters: {'n_estimators': 6, 'criterion': 'gini', 'max_depth': 4, 'min_samples_leaf': 9, 'max_features': 'sqrt'}. Best is trial 42 with value: 0.7291999305314512.\n",
      "[I 2024-11-29 17:11:35,810] Trial 53 finished with value: 0.7294084811049653 and parameters: {'n_estimators': 47, 'criterion': 'gini', 'max_depth': 2, 'min_samples_leaf': 10, 'max_features': 'sqrt'}. Best is trial 53 with value: 0.7294084811049653.\n",
      "[I 2024-11-29 17:11:36,822] Trial 54 finished with value: 0.4962041814945545 and parameters: {'n_estimators': 46, 'criterion': 'gini', 'max_depth': 5, 'min_samples_leaf': 10, 'max_features': 'sqrt'}. Best is trial 53 with value: 0.7294084811049653.\n",
      "[I 2024-11-29 17:11:37,929] Trial 55 finished with value: 0.4367096352345638 and parameters: {'n_estimators': 48, 'criterion': 'gini', 'max_depth': 7, 'min_samples_leaf': 10, 'max_features': 'sqrt'}. Best is trial 53 with value: 0.7294084811049653.\n",
      "[I 2024-11-29 17:11:38,885] Trial 56 finished with value: 0.6568326399763478 and parameters: {'n_estimators': 44, 'criterion': 'gini', 'max_depth': 3, 'min_samples_leaf': 8, 'max_features': 'sqrt'}. Best is trial 53 with value: 0.7294084811049653.\n",
      "[I 2024-11-29 17:11:39,982] Trial 57 finished with value: 0.7291304136736132 and parameters: {'n_estimators': 46, 'criterion': 'gini', 'max_depth': 2, 'min_samples_leaf': 10, 'max_features': 'sqrt'}. Best is trial 53 with value: 0.7294084811049653.\n",
      "[I 2024-11-29 17:11:40,999] Trial 58 finished with value: 0.3836080312019098 and parameters: {'n_estimators': 49, 'criterion': 'gini', 'max_depth': 9, 'min_samples_leaf': 10, 'max_features': 'log2'}. Best is trial 53 with value: 0.7294084811049653.\n",
      "[I 2024-11-29 17:11:42,252] Trial 59 finished with value: 0.38437003548065063 and parameters: {'n_estimators': 46, 'criterion': 'gini', 'max_depth': 29, 'min_samples_leaf': 10, 'max_features': 'sqrt'}. Best is trial 53 with value: 0.7294084811049653.\n",
      "[I 2024-11-29 17:11:43,597] Trial 60 finished with value: 0.4153660516671123 and parameters: {'n_estimators': 48, 'criterion': 'gini', 'max_depth': 15, 'min_samples_leaf': 9, 'max_features': 'sqrt'}. Best is trial 53 with value: 0.7294084811049653.\n",
      "[I 2024-11-29 17:11:44,638] Trial 61 finished with value: 0.7225263121790008 and parameters: {'n_estimators': 41, 'criterion': 'gini', 'max_depth': 2, 'min_samples_leaf': 9, 'max_features': 'sqrt'}. Best is trial 53 with value: 0.7294084811049653.\n",
      "[I 2024-11-29 17:11:45,582] Trial 62 finished with value: 0.6177010982842283 and parameters: {'n_estimators': 45, 'criterion': 'gini', 'max_depth': 4, 'min_samples_leaf': 10, 'max_features': 'sqrt'}. Best is trial 53 with value: 0.7294084811049653.\n",
      "[I 2024-11-29 17:11:46,597] Trial 63 finished with value: 0.6367481617766944 and parameters: {'n_estimators': 40, 'criterion': 'gini', 'max_depth': 3, 'min_samples_leaf': 1, 'max_features': 'sqrt'}. Best is trial 53 with value: 0.7294084811049653.\n",
      "[I 2024-11-29 17:11:47,623] Trial 64 finished with value: 0.7291999305314512 and parameters: {'n_estimators': 43, 'criterion': 'gini', 'max_depth': 2, 'min_samples_leaf': 8, 'max_features': 'sqrt'}. Best is trial 53 with value: 0.7294084811049653.\n",
      "[I 2024-11-29 17:11:48,640] Trial 65 finished with value: 0.48488020419308875 and parameters: {'n_estimators': 43, 'criterion': 'gini', 'max_depth': 6, 'min_samples_leaf': 9, 'max_features': 'sqrt'}. Best is trial 53 with value: 0.7294084811049653.\n",
      "[I 2024-11-29 17:11:49,836] Trial 66 finished with value: 0.39354297569349583 and parameters: {'n_estimators': 45, 'criterion': 'gini', 'max_depth': 19, 'min_samples_leaf': 10, 'max_features': 'sqrt'}. Best is trial 53 with value: 0.7294084811049653.\n",
      "[I 2024-11-29 17:11:50,877] Trial 67 finished with value: 0.5957341576805619 and parameters: {'n_estimators': 50, 'criterion': 'gini', 'max_depth': 4, 'min_samples_leaf': 8, 'max_features': 'sqrt'}. Best is trial 53 with value: 0.7294084811049653.\n",
      "[I 2024-11-29 17:11:52,288] Trial 68 finished with value: 0.7289914282670809 and parameters: {'n_estimators': 47, 'criterion': 'gini', 'max_depth': 2, 'min_samples_leaf': 9, 'max_features': 'log2'}. Best is trial 53 with value: 0.7294084811049653.\n",
      "[I 2024-11-29 17:11:53,384] Trial 69 finished with value: 0.49648956776118275 and parameters: {'n_estimators': 42, 'criterion': 'gini', 'max_depth': 5, 'min_samples_leaf': 7, 'max_features': 'sqrt'}. Best is trial 53 with value: 0.7294084811049653.\n",
      "[I 2024-11-29 17:11:54,199] Trial 70 finished with value: 0.3919462618746895 and parameters: {'n_estimators': 15, 'criterion': 'gini', 'max_depth': 23, 'min_samples_leaf': 10, 'max_features': 'sqrt'}. Best is trial 53 with value: 0.7294084811049653.\n",
      "[I 2024-11-29 17:11:55,525] Trial 71 finished with value: 0.7289914282670809 and parameters: {'n_estimators': 47, 'criterion': 'gini', 'max_depth': 2, 'min_samples_leaf': 9, 'max_features': 'log2'}. Best is trial 53 with value: 0.7294084811049653.\n",
      "[I 2024-11-29 17:11:56,853] Trial 72 finished with value: 0.6766451376967602 and parameters: {'n_estimators': 48, 'criterion': 'gini', 'max_depth': 3, 'min_samples_leaf': 9, 'max_features': 'log2'}. Best is trial 53 with value: 0.7294084811049653.\n",
      "[I 2024-11-29 17:11:58,204] Trial 73 finished with value: 0.7079972888908534 and parameters: {'n_estimators': 45, 'criterion': 'gini', 'max_depth': 2, 'min_samples_leaf': 2, 'max_features': 'log2'}. Best is trial 53 with value: 0.7294084811049653.\n",
      "[I 2024-11-29 17:11:59,393] Trial 74 finished with value: 0.6329936717437161 and parameters: {'n_estimators': 43, 'criterion': 'gini', 'max_depth': 4, 'min_samples_leaf': 8, 'max_features': 'log2'}. Best is trial 53 with value: 0.7294084811049653.\n",
      "[I 2024-11-29 17:12:00,562] Trial 75 finished with value: 0.67546330280437 and parameters: {'n_estimators': 40, 'criterion': 'gini', 'max_depth': 3, 'min_samples_leaf': 9, 'max_features': 'log2'}. Best is trial 53 with value: 0.7294084811049653.\n",
      "[I 2024-11-29 17:12:01,668] Trial 76 finished with value: 0.7291999305314512 and parameters: {'n_estimators': 49, 'criterion': 'gini', 'max_depth': 2, 'min_samples_leaf': 10, 'max_features': 'sqrt'}. Best is trial 53 with value: 0.7294084811049653.\n",
      "[I 2024-11-29 17:12:02,749] Trial 77 finished with value: 0.48008390332084294 and parameters: {'n_estimators': 49, 'criterion': 'gini', 'max_depth': 6, 'min_samples_leaf': 10, 'max_features': 'sqrt'}. Best is trial 53 with value: 0.7294084811049653.\n",
      "[I 2024-11-29 17:12:04,017] Trial 78 finished with value: 0.44588436288572736 and parameters: {'n_estimators': 46, 'criterion': 'gini', 'max_depth': 7, 'min_samples_leaf': 5, 'max_features': 'sqrt'}. Best is trial 53 with value: 0.7294084811049653.\n",
      "[I 2024-11-29 17:12:05,156] Trial 79 finished with value: 0.5576496683698056 and parameters: {'n_estimators': 49, 'criterion': 'gini', 'max_depth': 5, 'min_samples_leaf': 10, 'max_features': 'sqrt'}. Best is trial 53 with value: 0.7294084811049653.\n",
      "[I 2024-11-29 17:12:06,059] Trial 80 finished with value: 0.6851259769618524 and parameters: {'n_estimators': 36, 'criterion': 'gini', 'max_depth': 3, 'min_samples_leaf': 10, 'max_features': 'sqrt'}. Best is trial 53 with value: 0.7294084811049653.\n",
      "[I 2024-11-29 17:12:07,088] Trial 81 finished with value: 0.7344832117271413 and parameters: {'n_estimators': 47, 'criterion': 'gini', 'max_depth': 2, 'min_samples_leaf': 9, 'max_features': 'sqrt'}. Best is trial 81 with value: 0.7344832117271413.\n",
      "[I 2024-11-29 17:12:08,056] Trial 82 finished with value: 0.6049773635429732 and parameters: {'n_estimators': 50, 'criterion': 'gini', 'max_depth': 4, 'min_samples_leaf': 8, 'max_features': 'sqrt'}. Best is trial 81 with value: 0.7344832117271413.\n",
      "[I 2024-11-29 17:12:09,039] Trial 83 finished with value: 0.7226653458946769 and parameters: {'n_estimators': 44, 'criterion': 'gini', 'max_depth': 2, 'min_samples_leaf': 10, 'max_features': 'sqrt'}. Best is trial 81 with value: 0.7344832117271413.\n",
      "[I 2024-11-29 17:12:10,043] Trial 84 finished with value: 0.6457159813652309 and parameters: {'n_estimators': 47, 'criterion': 'gini', 'max_depth': 3, 'min_samples_leaf': 8, 'max_features': 'sqrt'}. Best is trial 81 with value: 0.7344832117271413.\n",
      "[I 2024-11-29 17:12:11,089] Trial 85 finished with value: 0.5748900423502108 and parameters: {'n_estimators': 39, 'criterion': 'entropy', 'max_depth': 4, 'min_samples_leaf': 9, 'max_features': 'sqrt'}. Best is trial 81 with value: 0.7344832117271413.\n",
      "[I 2024-11-29 17:12:11,981] Trial 86 finished with value: 0.7291999305314512 and parameters: {'n_estimators': 42, 'criterion': 'entropy', 'max_depth': 2, 'min_samples_leaf': 9, 'max_features': 'sqrt'}. Best is trial 81 with value: 0.7344832117271413.\n",
      "[I 2024-11-29 17:12:12,989] Trial 87 finished with value: 0.45964394228699834 and parameters: {'n_estimators': 42, 'criterion': 'entropy', 'max_depth': 5, 'min_samples_leaf': 9, 'max_features': 'sqrt'}. Best is trial 81 with value: 0.7344832117271413.\n",
      "[I 2024-11-29 17:12:13,901] Trial 88 finished with value: 0.7291304136736132 and parameters: {'n_estimators': 34, 'criterion': 'entropy', 'max_depth': 2, 'min_samples_leaf': 7, 'max_features': 'sqrt'}. Best is trial 81 with value: 0.7344832117271413.\n",
      "[I 2024-11-29 17:12:14,847] Trial 89 finished with value: 0.6370264465991933 and parameters: {'n_estimators': 44, 'criterion': 'entropy', 'max_depth': 3, 'min_samples_leaf': 8, 'max_features': 'sqrt'}. Best is trial 81 with value: 0.7344832117271413.\n",
      "[I 2024-11-29 17:12:15,852] Trial 90 finished with value: 0.4862684157475249 and parameters: {'n_estimators': 40, 'criterion': 'entropy', 'max_depth': 5, 'min_samples_leaf': 9, 'max_features': 'sqrt'}. Best is trial 81 with value: 0.7344832117271413.\n",
      "[I 2024-11-29 17:12:16,869] Trial 91 finished with value: 0.7291999305314512 and parameters: {'n_estimators': 46, 'criterion': 'entropy', 'max_depth': 2, 'min_samples_leaf': 4, 'max_features': 'sqrt'}. Best is trial 81 with value: 0.7344832117271413.\n",
      "[I 2024-11-29 17:12:17,941] Trial 92 finished with value: 0.6395291259450779 and parameters: {'n_estimators': 48, 'criterion': 'entropy', 'max_depth': 3, 'min_samples_leaf': 4, 'max_features': 'sqrt'}. Best is trial 81 with value: 0.7344832117271413.\n",
      "[I 2024-11-29 17:12:18,888] Trial 93 finished with value: 0.7290609451249189 and parameters: {'n_estimators': 43, 'criterion': 'entropy', 'max_depth': 2, 'min_samples_leaf': 3, 'max_features': 'sqrt'}. Best is trial 81 with value: 0.7344832117271413.\n",
      "[I 2024-11-29 17:12:19,884] Trial 94 finished with value: 0.5936458017059407 and parameters: {'n_estimators': 45, 'criterion': 'entropy', 'max_depth': 4, 'min_samples_leaf': 3, 'max_features': 'sqrt'}. Best is trial 81 with value: 0.7344832117271413.\n",
      "[I 2024-11-29 17:12:20,904] Trial 95 finished with value: 0.6323689378969048 and parameters: {'n_estimators': 46, 'criterion': 'entropy', 'max_depth': 3, 'min_samples_leaf': 5, 'max_features': 'sqrt'}. Best is trial 81 with value: 0.7344832117271413.\n",
      "[I 2024-11-29 17:12:21,789] Trial 96 finished with value: 0.7291304136736132 and parameters: {'n_estimators': 42, 'criterion': 'entropy', 'max_depth': 2, 'min_samples_leaf': 4, 'max_features': 'sqrt'}. Best is trial 81 with value: 0.7344832117271413.\n",
      "[I 2024-11-29 17:12:22,710] Trial 97 finished with value: 0.5746103807171155 and parameters: {'n_estimators': 38, 'criterion': 'entropy', 'max_depth': 4, 'min_samples_leaf': 6, 'max_features': 'sqrt'}. Best is trial 81 with value: 0.7344832117271413.\n",
      "[I 2024-11-29 17:12:23,692] Trial 98 finished with value: 0.7291999305314512 and parameters: {'n_estimators': 50, 'criterion': 'entropy', 'max_depth': 2, 'min_samples_leaf': 8, 'max_features': 'sqrt'}. Best is trial 81 with value: 0.7344832117271413.\n",
      "[I 2024-11-29 17:12:24,676] Trial 99 finished with value: 0.6546082937621059 and parameters: {'n_estimators': 50, 'criterion': 'entropy', 'max_depth': 3, 'min_samples_leaf': 7, 'max_features': 'sqrt'}. Best is trial 81 with value: 0.7344832117271413.\n"
     ]
    },
    {
     "data": {
      "text/plain": [
       "{'n_estimators': 47,\n",
       " 'criterion': 'gini',\n",
       " 'max_depth': 2,\n",
       " 'min_samples_leaf': 9,\n",
       " 'max_features': 'sqrt'}"
      ]
     },
     "execution_count": 13,
     "metadata": {},
     "output_type": "execute_result"
    }
   ],
   "source": [
    "opt = Optuna(X, y, n_trials=100, model='RandomForest')\n",
    "opt.optimize()"
   ]
  }
 ],
 "metadata": {
  "kernelspec": {
   "display_name": "transfer_learning",
   "language": "python",
   "name": "python3"
  },
  "language_info": {
   "codemirror_mode": {
    "name": "ipython",
    "version": 3
   },
   "file_extension": ".py",
   "mimetype": "text/x-python",
   "name": "python",
   "nbconvert_exporter": "python",
   "pygments_lexer": "ipython3",
   "version": "3.12.5"
  }
 },
 "nbformat": 4,
 "nbformat_minor": 5
}
