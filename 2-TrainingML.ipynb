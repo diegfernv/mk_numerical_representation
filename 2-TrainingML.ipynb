{
 "cells": [
  {
   "cell_type": "code",
   "execution_count": null,
   "id": "03ea2575",
   "metadata": {
    "lines_to_next_cell": 0
   },
   "outputs": [],
   "source": [
    "import pandas as pd\n",
    "from sklearn.model_selection import train_test_split\n",
    "from sklearn.metrics import accuracy_score, recall_score, precision_score, f1_score, matthews_corrcoef, confusion_matrix, make_scorer\n",
    "from sklearn.model_selection import cross_val_predict, cross_validate\n",
    "from sklearn.neighbors import KNeighborsClassifier\n",
    "from sklearn.tree import DecisionTreeClassifier\n",
    "from sklearn.svm import SVC\n",
    "from sklearn.ensemble import RandomForestClassifier, AdaBoostClassifier\n",
    "from joblib import dump"
   ]
  },
  {
   "cell_type": "code",
   "execution_count": null,
   "id": "0d18d038",
   "metadata": {},
   "outputs": [],
   "source": [
    "class Models():\n",
    "    algorithms = [\n",
    "        (\"knn\", KNeighborsClassifier()),\n",
    "        (\"dt\", DecisionTreeClassifier()),\n",
    "        (\"svm\", SVC()),\n",
    "        (\"rf\", RandomForestClassifier()),\n",
    "        (\"ada\", AdaBoostClassifier()) \n",
    "    ]\n",
    "    \n",
    "    def train_all(self, data, response):\n",
    "        for name, algorithm in self.algorithms:\n",
    "            algorithm.fit(X=data, y=response)\n",
    "\n",
    "    def save(self, sufix):\n",
    "        for name, algorithm in self.algorithms:\n",
    "            dump(algorithm, f\"models/{name}_model_{sufix}.joblib\")\n",
    "\n",
    "    def predict(self, X_val):\n",
    "        predictions = []\n",
    "\n",
    "        for name, model in self.algorithms:\n",
    "            predictions.append((name, model.predict(X_val)))\n",
    "        \n",
    "        return predictions\n",
    "    \n",
    "    def cross_validate_model(self, name, model, X, y, cv, scoring):\n",
    "        res = cross_validate(model, X, y, cv=cv, scoring=scoring)\n",
    "        return [name, res[\"test_accuracy\"].mean(), res[\"test_precision\"].mean(), res[\"test_recall\"].mean(), res[\"test_f1\"].mean(), res[\"test_mcc\"].mean()]\n",
    "    \n",
    "    def cross_validate(self, X, y, cv, scoring):\n",
    "        score_list = []\n",
    "        for name, model in self.algorithms:\n",
    "            score_list.append(self.cross_validate_model(name, model, X, y, cv, scoring))\n",
    "        \n",
    "        return pd.DataFrame(score_list, columns=[\"algorithm\", \"accuracy\", \"precision\", \"recall\", \"f1\", \"mcc\"])\n",
    "\n",
    "    def cv_predict(self, X, y, cv):\n",
    "        self.predictions = cross_val_predict(self.model_instance, X, y, cv=cv)\n",
    "        return self.get_metrics(y)\n",
    "\n",
    "    def get_metrics(self, X_val,y_true):\n",
    "        export_list = []\n",
    "        predictions = self.predict(X_val)\n",
    "        for name, y_pred in predictions:\n",
    "            acc_value = accuracy_score(y_pred=y_pred, y_true=y_true) \n",
    "            recall_value = recall_score(y_pred=y_pred, y_true=y_true)\n",
    "            precision_value = precision_score(y_pred=y_pred, y_true=y_true) \n",
    "            f1_value = f1_score(y_pred=y_pred, y_true=y_true)\n",
    "            mcc_value = matthews_corrcoef(y_pred=y_pred, y_true=y_true)\n",
    "            cm = confusion_matrix(y_pred=y_pred, y_true=y_true)\n",
    "            export_list.append((name, acc_value, recall_value, precision_value, f1_value, mcc_value, cm))\n",
    "    \n",
    "        return pd.DataFrame(export_list, columns=[\"algorithm\", \"acc\", \"recall\", \"precision\", \"f1\", \"mcc\", \"cm\"])"
   ]
  },
  {
   "cell_type": "markdown",
   "id": "066aba48",
   "metadata": {},
   "source": [
    "# Data load"
   ]
  },
  {
   "cell_type": "code",
   "execution_count": null,
   "id": "88619754",
   "metadata": {
    "lines_to_next_cell": 2
   },
   "outputs": [],
   "source": [
    "df = pd.read_csv('data/human_dataset_fft.csv')\n",
    "df.head()"
   ]
  },
  {
   "cell_type": "markdown",
   "id": "72ae2763",
   "metadata": {
    "lines_to_next_cell": 0
   },
   "source": [
    "# Data split"
   ]
  },
  {
   "cell_type": "code",
   "execution_count": null,
   "id": "c95ab125",
   "metadata": {
    "lines_to_next_cell": 0
   },
   "outputs": [],
   "source": [
    "X = df.drop('response', axis=1)\n",
    "y = df['response']"
   ]
  },
  {
   "cell_type": "code",
   "execution_count": null,
   "id": "e629e98f",
   "metadata": {},
   "outputs": [],
   "source": [
    "X_train_val, X_test, y_train_val, y_test = train_test_split(X, y, test_size=0.1, random_state=42)\n",
    "X_train, X_val, y_train, y_val = train_test_split(X_train_val, y_train_val, test_size=0.1, random_state=42)"
   ]
  },
  {
   "cell_type": "markdown",
   "id": "5c5fccec",
   "metadata": {
    "lines_to_next_cell": 0
   },
   "source": [
    "# Model training"
   ]
  },
  {
   "cell_type": "code",
   "execution_count": null,
   "id": "008f5d3d",
   "metadata": {},
   "outputs": [],
   "source": [
    "models_instance = Models()\n",
    "models_instance.train_all(X_train, y_train)"
   ]
  },
  {
   "cell_type": "markdown",
   "id": "c9c1237b",
   "metadata": {
    "lines_to_next_cell": 0
   },
   "source": [
    "# Model evaluation"
   ]
  },
  {
   "cell_type": "code",
   "execution_count": null,
   "id": "092c133e",
   "metadata": {},
   "outputs": [],
   "source": [
    "metrics_val = models_instance.get_metrics(X_val, y_val)\n",
    "metrics_test = models_instance.get_metrics(X_test, y_test)\n",
    "metrics = pd.merge(metrics_val, metrics_test, on=\"algorithm\", suffixes=(\"_val\", \"_test\"))\n",
    "metrics"
   ]
  },
  {
   "cell_type": "markdown",
   "id": "49bf64ba",
   "metadata": {
    "lines_to_next_cell": 0
   },
   "source": [
    "# Cross Validation"
   ]
  },
  {
   "cell_type": "code",
   "execution_count": null,
   "id": "214ed1c7",
   "metadata": {},
   "outputs": [],
   "source": [
    "scoring = {\n",
    "    \"accuracy\": make_scorer(accuracy_score),\n",
    "    \"precision\": make_scorer(precision_score),\n",
    "    \"recall\": make_scorer(recall_score),\n",
    "    \"f1\": make_scorer(f1_score),\n",
    "    \"mcc\": make_scorer(matthews_corrcoef)\n",
    "}\n",
    "cv_metrics = models_instance.cross_validate(X_train, y_train, cv=5, scoring=scoring)\n",
    "cv_metrics"
   ]
  }
 ],
 "metadata": {
  "kernelspec": {
   "display_name": "Python 3",
   "language": "python",
   "name": "python3"
  },
  "language_info": {
   "codemirror_mode": {
    "name": "ipython"
   },
   "file_extension": ".py",
   "mimetype": "text/x-python",
   "name": "python",
   "nbconvert_exporter": "python",
   "pygments_lexer": "ipython3"
  }
 },
 "nbformat": 4,
 "nbformat_minor": 5
}
